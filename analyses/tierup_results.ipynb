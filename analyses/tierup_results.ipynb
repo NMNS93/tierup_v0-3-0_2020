{
 "cells": [
  {
   "cell_type": "code",
   "execution_count": 3,
   "metadata": {},
   "outputs": [],
   "source": [
    "# Imports\n",
    "import re\n",
    "import pandas as pd\n",
    "\n",
    "# Functions\n",
    "#  result_filter filters db.csv for TierUp signficant hits only. These are high and moderate impact variants (tierup tier_1/tier_2)\n",
    "#  within genes previously not known to be disease causing (gel TIER3)\n",
    "result_filter = lambda x: x[(x.tier_gel == 'TIER3') & ((x.tier_tierup == 'tier_1') | (x.tier_tierup == 'tier_2'))]"
   ]
  },
  {
   "cell_type": "markdown",
   "metadata": {},
   "source": [
    "## Case Demographics"
   ]
  },
  {
   "cell_type": "markdown",
   "metadata": {},
   "source": [
    "### Sample Counts"
   ]
  },
  {
   "cell_type": "code",
   "execution_count": 4,
   "metadata": {},
   "outputs": [
    {
     "name": "stdout",
     "output_type": "stream",
     "text": [
      "948 samples\n",
      "1    368\n",
      "3    364\n",
      "2    154\n",
      "4     53\n",
      "5      7\n",
      "7      2\n",
      "Name: samples, dtype: int64\n",
      "426\n",
      "false      557\n",
      "is_trio    391\n",
      "Name: trio_bool, dtype: int64\n"
     ]
    }
   ],
   "source": [
    "_case_count = pd.read_csv('../data/cohort.csv')\n",
    "\n",
    "print(str(_case_count.shape[0]) + \" samples\")\n",
    "\n",
    "case_count = _case_count.samples.value_counts()\n",
    "print(case_count)\n",
    "\n",
    "print(sum(case_count.loc[case_count.index >= 3]))\n",
    "\n",
    "print(_case_count.trio_bool.value_counts())"
   ]
  },
  {
   "cell_type": "markdown",
   "metadata": {},
   "source": [
    "### Referrals"
   ]
  },
  {
   "cell_type": "code",
   "execution_count": 5,
   "metadata": {},
   "outputs": [
    {
     "data": {
      "text/plain": [
       "Cardiovascular disorders                      232\n",
       "Neurology and neurodevelopmental disorders    227\n",
       "None                                          117\n",
       "Tumour syndromes                              100\n",
       "Renal and urinary tract disorders              87\n",
       "Dermatological disorders                       48\n",
       "Name: group, dtype: int64"
      ]
     },
     "execution_count": 5,
     "metadata": {},
     "output_type": "execute_result"
    }
   ],
   "source": [
    "referrals = pd.read_csv('../data/rd_group_referrals.csv')\n",
    "referrals.group.value_counts()[0:6]"
   ]
  },
  {
   "cell_type": "markdown",
   "metadata": {},
   "source": [
    "368 singletons, 426 with 3 or more family members, 391 trios"
   ]
  },
  {
   "cell_type": "markdown",
   "metadata": {},
   "source": [
    "### Panels Applied"
   ]
  },
  {
   "cell_type": "code",
   "execution_count": 6,
   "metadata": {},
   "outputs": [
    {
     "data": {
      "text/plain": [
       "Intellectual disability                  254\n",
       "Familial hypercholesterolaemia           120\n",
       "Mitochondrial disorders                  107\n",
       "Undiagnosed metabolic disorders          106\n",
       "Hearing loss                              63\n",
       "Genetic epilepsy syndromes                53\n",
       "Skeletal dysplasia                        50\n",
       "CAKUT                                     48\n",
       "Familial breast cancer                    44\n",
       "Rare multisystem ciliopathy disorders     42\n",
       "Name: tu_panel_name, dtype: int64"
      ]
     },
     "execution_count": 6,
     "metadata": {},
     "output_type": "execute_result"
    }
   ],
   "source": [
    "df = pd.read_csv('../data/db.csv', usecols=['#id','tu_panel_name']).drop_duplicates()\n",
    "df.tu_panel_name.value_counts()[:10]"
   ]
  },
  {
   "cell_type": "markdown",
   "metadata": {},
   "source": [
    "### Time since initial analysis "
   ]
  },
  {
   "cell_type": "code",
   "execution_count": 7,
   "metadata": {},
   "outputs": [
    {
     "data": {
      "text/plain": [
       "count    30.580645\n",
       "mean     18.412856\n",
       "std       2.655159\n",
       "min       9.935484\n",
       "25%      16.830645\n",
       "50%      20.451613\n",
       "75%      20.483871\n",
       "max      20.483871\n",
       "Name: days_old_at_runtime, dtype: float64"
      ]
     },
     "execution_count": 7,
     "metadata": {},
     "output_type": "execute_result"
    }
   ],
   "source": [
    "# df datetime\n",
    "_dfdt = pd.read_csv('../data/db.csv', usecols=['#id','created_at', 'tu_run_time'])\n",
    "dfdt = pd.DataFrame(\n",
    "    zip(\n",
    "        _dfdt['#id'],\n",
    "        _dfdt['created_at'].apply(pd.Timestamp).apply(lambda x: x.date()),\n",
    "        _dfdt['tu_run_time'].apply(pd.Timestamp).apply(lambda x: x.date())\n",
    "    ),\n",
    "    columns=_dfdt.columns\n",
    ")\n",
    "\n",
    "dfdt = dfdt.groupby(list(dfdt.columns)).count().reset_index()\n",
    "# Add selection date\n",
    "dfdt['selection_date'] = pd.Timestamp(pd.Timestamp('01 November 2019').date())\n",
    "# Convert all dates to timestamp to get time differences\n",
    "dfdt.set_index('#id', inplace=True)\n",
    "dfdt = dfdt.apply(pd.to_datetime)\n",
    "dfdt['days_old_at_selection'] = dfdt.selection_date-dfdt.created_at \n",
    "dfdt['days_old_at_runtime'] = dfdt.tu_run_time-dfdt.created_at\n",
    "\n",
    "# Confirm that there is one time record per case\n",
    "assert _dfdt['#id'].unique().shape[0] == dfdt.shape[0]\n",
    "\n",
    "dfdt.days_old_at_selection = dfdt.days_old_at_selection.apply(abs).apply(lambda x: x.days)\n",
    "dfdt.days_old_at_runtime = dfdt.days_old_at_runtime.apply(abs).apply(lambda x: x.days)\n",
    "months_old_at_runtime = dfdt.days_old_at_runtime.describe()/31\n",
    "months_old_at_runtime"
   ]
  },
  {
   "cell_type": "markdown",
   "metadata": {},
   "source": [
    "### Variants to reanalyse"
   ]
  },
  {
   "cell_type": "code",
   "execution_count": 8,
   "metadata": {},
   "outputs": [
    {
     "name": "stdout",
     "output_type": "stream",
     "text": [
      "Variants to analyse: 564441\n",
      "Median variants per case: 384.0\n",
      " IQR: 118.5 - 739.25\n"
     ]
    }
   ],
   "source": [
    "df = pd.read_csv('../data/db.csv', usecols=['#id'])\n",
    "df['counts'] = 1\n",
    "\n",
    "variants = df['#id'].shape[0]\n",
    "print(f'Variants to analyse: {variants}')\n",
    "\n",
    "case_summary = df.groupby('#id').sum().counts.describe()\n",
    "print(f\"Median variants per case: {case_summary['50%']}\\n IQR: {case_summary['25%']} - {case_summary['75%']}\")\n"
   ]
  },
  {
   "cell_type": "markdown",
   "metadata": {},
   "source": [
    "## Reanalysis"
   ]
  },
  {
   "cell_type": "markdown",
   "metadata": {},
   "source": [
    "### Variants per case"
   ]
  },
  {
   "cell_type": "code",
   "execution_count": 9,
   "metadata": {},
   "outputs": [
    {
     "name": "stdout",
     "output_type": "stream",
     "text": [
      "TierUp returned 121 cases with 410 significant variants\n",
      "This resulted in 99.93 % fewer variants for review\n"
     ]
    }
   ],
   "source": [
    "df = pd.read_csv('../data/db.csv', usecols=['#id', 'tier_tierup', 'tier_gel'])\n",
    "\n",
    "# hmi = High and moderate impact variants returned by TierUp where original\n",
    "hmi = result_filter(df)\n",
    "\n",
    "sig_cases = hmi['#id'].nunique()\n",
    "sig_variants = hmi.shape[0]\n",
    "print(f'TierUp returned {sig_cases} cases with {sig_variants} significant variants')\n",
    "var_perc = (df.shape[0] - sig_variants) * 100 / df.shape[0]\n",
    "print(f\"This resulted in {round(var_perc, 2)} % fewer variants for review\")"
   ]
  },
  {
   "cell_type": "code",
   "execution_count": 10,
   "metadata": {},
   "outputs": [
    {
     "name": "stdout",
     "output_type": "stream",
     "text": [
      "Cases with significant variants had 1.0 median variants per case (IQR 1.0-2.0)\n"
     ]
    }
   ],
   "source": [
    "hmi = hmi.copy() # Create copy to stop warnings when setting data in slice of dataframe\n",
    "hmi['counts'] = 1\n",
    "hmi_summary = hmi[['#id','counts']].groupby('#id').sum().describe()\n",
    "\n",
    "print(f'Cases with significant variants had {hmi_summary.loc[\"50%\"][0]} '\n",
    "      f'median variants per case (IQR {hmi_summary.loc[\"25%\"][0]}-{hmi_summary.loc[\"75%\"][0]})')\n"
   ]
  },
  {
   "cell_type": "markdown",
   "metadata": {},
   "source": [
    "### Patient Cohorts"
   ]
  },
  {
   "cell_type": "code",
   "execution_count": 11,
   "metadata": {},
   "outputs": [
    {
     "data": {
      "text/html": [
       "<div>\n",
       "<style scoped>\n",
       "    .dataframe tbody tr th:only-of-type {\n",
       "        vertical-align: middle;\n",
       "    }\n",
       "\n",
       "    .dataframe tbody tr th {\n",
       "        vertical-align: top;\n",
       "    }\n",
       "\n",
       "    .dataframe thead th {\n",
       "        text-align: right;\n",
       "    }\n",
       "</style>\n",
       "<table border=\"1\" class=\"dataframe\">\n",
       "  <thead>\n",
       "    <tr style=\"text-align: right;\">\n",
       "      <th></th>\n",
       "      <th>n</th>\n",
       "      <th>tierup_variants</th>\n",
       "      <th>percs</th>\n",
       "    </tr>\n",
       "  </thead>\n",
       "  <tbody>\n",
       "    <tr>\n",
       "      <th>Intellectual disability</th>\n",
       "      <td>254</td>\n",
       "      <td>73.0</td>\n",
       "      <td>28.7</td>\n",
       "    </tr>\n",
       "    <tr>\n",
       "      <th>CAKUT</th>\n",
       "      <td>48</td>\n",
       "      <td>13.0</td>\n",
       "      <td>27.1</td>\n",
       "    </tr>\n",
       "    <tr>\n",
       "      <th>Arthrogryposis</th>\n",
       "      <td>15</td>\n",
       "      <td>4.0</td>\n",
       "      <td>26.7</td>\n",
       "    </tr>\n",
       "    <tr>\n",
       "      <th>Generalised pustular psoriasis</th>\n",
       "      <td>4</td>\n",
       "      <td>1.0</td>\n",
       "      <td>25.0</td>\n",
       "    </tr>\n",
       "    <tr>\n",
       "      <th>Genetic epilepsy syndromes</th>\n",
       "      <td>53</td>\n",
       "      <td>11.0</td>\n",
       "      <td>20.8</td>\n",
       "    </tr>\n",
       "    <tr>\n",
       "      <th>Hypogonadotropic hypogonadism</th>\n",
       "      <td>6</td>\n",
       "      <td>1.0</td>\n",
       "      <td>16.7</td>\n",
       "    </tr>\n",
       "    <tr>\n",
       "      <th>Limb girdle muscular dystrophy</th>\n",
       "      <td>13</td>\n",
       "      <td>2.0</td>\n",
       "      <td>15.4</td>\n",
       "    </tr>\n",
       "    <tr>\n",
       "      <th>Hypertrophic cardiomyopathy - teen and adult</th>\n",
       "      <td>14</td>\n",
       "      <td>2.0</td>\n",
       "      <td>14.3</td>\n",
       "    </tr>\n",
       "    <tr>\n",
       "      <th>Anophthalmia or microphthalmia</th>\n",
       "      <td>8</td>\n",
       "      <td>1.0</td>\n",
       "      <td>12.5</td>\n",
       "    </tr>\n",
       "    <tr>\n",
       "      <th>Clefting</th>\n",
       "      <td>8</td>\n",
       "      <td>1.0</td>\n",
       "      <td>12.5</td>\n",
       "    </tr>\n",
       "  </tbody>\n",
       "</table>\n",
       "</div>"
      ],
      "text/plain": [
       "                                                n  tierup_variants  percs\n",
       "Intellectual disability                       254             73.0   28.7\n",
       "CAKUT                                          48             13.0   27.1\n",
       "Arthrogryposis                                 15              4.0   26.7\n",
       "Generalised pustular psoriasis                  4              1.0   25.0\n",
       "Genetic epilepsy syndromes                     53             11.0   20.8\n",
       "Hypogonadotropic hypogonadism                   6              1.0   16.7\n",
       "Limb girdle muscular dystrophy                 13              2.0   15.4\n",
       "Hypertrophic cardiomyopathy - teen and adult   14              2.0   14.3\n",
       "Anophthalmia or microphthalmia                  8              1.0   12.5\n",
       "Clefting                                        8              1.0   12.5"
      ]
     },
     "execution_count": 11,
     "metadata": {},
     "output_type": "execute_result"
    }
   ],
   "source": [
    "# What were the top 10 patient cohorts?\n",
    "\n",
    "df = pd.read_csv('../data/db.csv', usecols=[\n",
    "    '#id', 'tier_tierup', 'tier_gel', 'tu_panel_name'\n",
    "    ],low_memory=False)\n",
    "\n",
    "hmi = result_filter(df)\n",
    "\n",
    "# ipa = case counts for each intial panel applied\n",
    "#  Note that panels applied differs slightly as  \n",
    "_ipa = df[[\"#id\",\"tu_panel_name\"]].drop_duplicates()\n",
    "ipa = _ipa.tu_panel_name.value_counts()\n",
    "\n",
    "# tpa = case counts for tierup results panels\n",
    "_tpa = hmi[['#id', 'tu_panel_name']].drop_duplicates()\n",
    "tpa = _tpa.tu_panel_name.value_counts()\n",
    "\n",
    "\n",
    "# Combine to create table for patient cohort report\n",
    "pac = pd.concat([ipa, tpa], axis=1)\n",
    "pac.columns = ['n', 'tierup_variants']\n",
    "pac['percs'] = round(pac.tierup_variants * 100 / pac.n, 1)\n",
    "pac.sort_values('percs', ascending=False, inplace=True)\n",
    "pac.to_csv('../results/patient_cohort_tierup_variants.csv', index=True)\n",
    "pac.head(n=10)"
   ]
  },
  {
   "cell_type": "markdown",
   "metadata": {},
   "source": [
    "### Varaints Classified and Reported to Date"
   ]
  },
  {
   "cell_type": "code",
   "execution_count": 20,
   "metadata": {},
   "outputs": [
    {
     "data": {
      "text/html": [
       "<div>\n",
       "<style scoped>\n",
       "    .dataframe tbody tr th:only-of-type {\n",
       "        vertical-align: middle;\n",
       "    }\n",
       "\n",
       "    .dataframe tbody tr th {\n",
       "        vertical-align: top;\n",
       "    }\n",
       "\n",
       "    .dataframe thead th {\n",
       "        text-align: right;\n",
       "    }\n",
       "</style>\n",
       "<table border=\"1\" class=\"dataframe\">\n",
       "  <thead>\n",
       "    <tr style=\"text-align: right;\">\n",
       "      <th></th>\n",
       "      <th>#id</th>\n",
       "      <th>chr_ref_alt</th>\n",
       "      <th>pa_gene</th>\n",
       "      <th>zygosity</th>\n",
       "      <th>segregation</th>\n",
       "      <th>penetrance</th>\n",
       "      <th>tu_panel_name</th>\n",
       "      <th>tu_panel_version</th>\n",
       "    </tr>\n",
       "  </thead>\n",
       "  <tbody>\n",
       "    <tr>\n",
       "      <th>63471</th>\n",
       "      <td>P208</td>\n",
       "      <td>2,G,C</td>\n",
       "      <td>FN1</td>\n",
       "      <td>heterozygous</td>\n",
       "      <td>deNovo</td>\n",
       "      <td>complete</td>\n",
       "      <td>Skeletal dysplasia</td>\n",
       "      <td>2.900</td>\n",
       "    </tr>\n",
       "    <tr>\n",
       "      <th>142984</th>\n",
       "      <td>P311</td>\n",
       "      <td>5,A,C</td>\n",
       "      <td>PPP2CA</td>\n",
       "      <td>heterozygous</td>\n",
       "      <td>deNovo</td>\n",
       "      <td>complete</td>\n",
       "      <td>Genetic epilepsy syndromes</td>\n",
       "      <td>2.930</td>\n",
       "    </tr>\n",
       "    <tr>\n",
       "      <th>171917</th>\n",
       "      <td>P345</td>\n",
       "      <td>2,C,T</td>\n",
       "      <td>IDH1</td>\n",
       "      <td>heterozygous</td>\n",
       "      <td>deNovo</td>\n",
       "      <td>complete</td>\n",
       "      <td>Skeletal dysplasia</td>\n",
       "      <td>2.900</td>\n",
       "    </tr>\n",
       "    <tr>\n",
       "      <th>172791</th>\n",
       "      <td>P348</td>\n",
       "      <td>9,G,A</td>\n",
       "      <td>ABL1</td>\n",
       "      <td>heterozygous</td>\n",
       "      <td>deNovo</td>\n",
       "      <td>complete</td>\n",
       "      <td>Thoracic aortic aneurysm or dissection</td>\n",
       "      <td>1.112</td>\n",
       "    </tr>\n",
       "    <tr>\n",
       "      <th>533770</th>\n",
       "      <td>P895</td>\n",
       "      <td>20,C,T</td>\n",
       "      <td>BMP2</td>\n",
       "      <td>heterozygous</td>\n",
       "      <td>InheritedAutosomalDominant</td>\n",
       "      <td>incomplete</td>\n",
       "      <td>Clefting</td>\n",
       "      <td>2.300</td>\n",
       "    </tr>\n",
       "  </tbody>\n",
       "</table>\n",
       "</div>"
      ],
      "text/plain": [
       "         #id chr_ref_alt pa_gene      zygosity                 segregation  \\\n",
       "63471   P208       2,G,C     FN1  heterozygous                      deNovo   \n",
       "142984  P311       5,A,C  PPP2CA  heterozygous                      deNovo   \n",
       "171917  P345       2,C,T    IDH1  heterozygous                      deNovo   \n",
       "172791  P348       9,G,A    ABL1  heterozygous                      deNovo   \n",
       "533770  P895      20,C,T    BMP2  heterozygous  InheritedAutosomalDominant   \n",
       "\n",
       "        penetrance                           tu_panel_name  tu_panel_version  \n",
       "63471     complete                      Skeletal dysplasia             2.900  \n",
       "142984    complete              Genetic epilepsy syndromes             2.930  \n",
       "171917    complete                      Skeletal dysplasia             2.900  \n",
       "172791    complete  Thoracic aortic aneurysm or dissection             1.112  \n",
       "533770  incomplete                                Clefting             2.300  "
      ]
     },
     "execution_count": 20,
     "metadata": {},
     "output_type": "execute_result"
    }
   ],
   "source": [
    "hmi = result_filter(pd.read_csv('../data/db.csv'))\n",
    "\n",
    "case_gene = [\n",
    "    ('P208', 'FN1'),\n",
    "    ('P311', 'PPP2CA'),\n",
    "    ('P345', 'IDH1'),\n",
    "    ('P348', 'ABL1'),\n",
    "    ('P895', 'BMP2')\n",
    "]\n",
    "\n",
    "case_gene_filter = lambda df, case, gene: df[(df['#id'].str.contains(case)) & (df['pa_gene'].str.contains(gene))]\n",
    "case_gene_dfs = [\n",
    "    case_gene_filter(hmi, case, gene) for case, gene in case_gene\n",
    "]\n",
    "\n",
    "variants_reported = pd.concat(case_gene_dfs).drop(142983) # Drop index of additional PPP2CA variant\n",
    "variants_reported['chr_ref_alt'] = variants_reported[['chromosome','reference','alternate']].apply(lambda x: \",\".join(x), axis=1)\n",
    "variants_reported.to_csv('../results/variants_reported.csv', index=False)\n",
    "variants_reported[['#id', 'chr_ref_alt', 'pa_gene','zygosity','segregation','penetrance','tu_panel_name','tu_panel_version']]"
   ]
  }
 ],
 "metadata": {
  "kernelspec": {
   "display_name": "Python 3",
   "language": "python",
   "name": "python3"
  },
  "language_info": {
   "codemirror_mode": {
    "name": "ipython",
    "version": 3
   },
   "file_extension": ".py",
   "mimetype": "text/x-python",
   "name": "python",
   "nbconvert_exporter": "python",
   "pygments_lexer": "ipython3",
   "version": "3.7.7"
  }
 },
 "nbformat": 4,
 "nbformat_minor": 4
}
